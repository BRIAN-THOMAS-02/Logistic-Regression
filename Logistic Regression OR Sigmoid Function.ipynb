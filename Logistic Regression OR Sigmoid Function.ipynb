{
 "cells": [
  {
   "cell_type": "markdown",
   "id": "3c01a8c0",
   "metadata": {},
   "source": [
    "<div class=\"alert alert-block alert-info\" align=\"center\">\n",
    "\n",
    "# Logistic Regression    \n",
    "    \n",
    "</div>"
   ]
  },
  {
   "cell_type": "markdown",
   "id": "f1868a06",
   "metadata": {},
   "source": [
    "***"
   ]
  },
  {
   "cell_type": "markdown",
   "id": "c297a0c9",
   "metadata": {},
   "source": [
    "<div class=\"alert alert-block alert-info\" align=\"center\">\n",
    "\n",
    "# Logistic Regression Formula\n",
    "    \n",
    "</div>"
   ]
  },
  {
   "attachments": {
    "sigmoid-mathematical-equation.png": {
     "image/png": "[encoded data removed]"
    }
   },
   "cell_type": "markdown",
   "id": "45437a60",
   "metadata": {},
   "source": [
    "![sigmoid-mathematical-equation.png](attachment:sigmoid-mathematical-equation.png)"
   ]
  },
  {
   "cell_type": "markdown",
   "id": "c4db8290",
   "metadata": {},
   "source": [
    "<div class=\"alert alert-block alert-success\">\n",
    "\n",
    "## Importing Required Pakages\n",
    "    \n",
    "</div>"
   ]
  },
  {
   "cell_type": "code",
   "execution_count": 1,
   "id": "ae9fc244",
   "metadata": {},
   "outputs": [],
   "source": [
    "import pandas as pd\n",
    "from matplotlib import pyplot as plt\n",
    "%matplotlib inline"
   ]
  },
  {
   "cell_type": "markdown",
   "id": "17f67aa4",
   "metadata": {},
   "source": [
    "***"
   ]
  },
  {
   "cell_type": "markdown",
   "id": "46bc5f8e",
   "metadata": {},
   "source": [
    "<div class=\"alert alert-block alert-info\">\n",
    "\n",
    "### Creating a Dataframe using the REGRESSION.csv\n",
    "    \n",
    "</div>"
   ]
  },
  {
   "cell_type": "code",
   "execution_count": 2,
   "id": "d5dea0cd",
   "metadata": {},
   "outputs": [
    {
     "data": {
      "text/html": [
       "<div>\n",
       "<style scoped>\n",
       "    .dataframe tbody tr th:only-of-type {\n",
       "        vertical-align: middle;\n",
       "    }\n",
       "\n",
       "    .dataframe tbody tr th {\n",
       "        vertical-align: top;\n",
       "    }\n",
       "\n",
       "    .dataframe thead th {\n",
       "        text-align: right;\n",
       "    }\n",
       "</style>\n",
       "<table border=\"1\" class=\"dataframe\">\n",
       "  <thead>\n",
       "    <tr style=\"text-align: right;\">\n",
       "      <th></th>\n",
       "      <th>Age</th>\n",
       "      <th>Can_buy</th>\n",
       "    </tr>\n",
       "  </thead>\n",
       "  <tbody>\n",
       "    <tr>\n",
       "      <th>0</th>\n",
       "      <td>28</td>\n",
       "      <td>0</td>\n",
       "    </tr>\n",
       "    <tr>\n",
       "      <th>1</th>\n",
       "      <td>15</td>\n",
       "      <td>0</td>\n",
       "    </tr>\n",
       "    <tr>\n",
       "      <th>2</th>\n",
       "      <td>55</td>\n",
       "      <td>1</td>\n",
       "    </tr>\n",
       "    <tr>\n",
       "      <th>3</th>\n",
       "      <td>36</td>\n",
       "      <td>0</td>\n",
       "    </tr>\n",
       "    <tr>\n",
       "      <th>4</th>\n",
       "      <td>56</td>\n",
       "      <td>1</td>\n",
       "    </tr>\n",
       "    <tr>\n",
       "      <th>5</th>\n",
       "      <td>23</td>\n",
       "      <td>0</td>\n",
       "    </tr>\n",
       "    <tr>\n",
       "      <th>6</th>\n",
       "      <td>10</td>\n",
       "      <td>0</td>\n",
       "    </tr>\n",
       "    <tr>\n",
       "      <th>7</th>\n",
       "      <td>89</td>\n",
       "      <td>1</td>\n",
       "    </tr>\n",
       "    <tr>\n",
       "      <th>8</th>\n",
       "      <td>45</td>\n",
       "      <td>0</td>\n",
       "    </tr>\n",
       "    <tr>\n",
       "      <th>9</th>\n",
       "      <td>18</td>\n",
       "      <td>1</td>\n",
       "    </tr>\n",
       "    <tr>\n",
       "      <th>10</th>\n",
       "      <td>66</td>\n",
       "      <td>0</td>\n",
       "    </tr>\n",
       "    <tr>\n",
       "      <th>11</th>\n",
       "      <td>41</td>\n",
       "      <td>0</td>\n",
       "    </tr>\n",
       "    <tr>\n",
       "      <th>12</th>\n",
       "      <td>30</td>\n",
       "      <td>0</td>\n",
       "    </tr>\n",
       "    <tr>\n",
       "      <th>13</th>\n",
       "      <td>22</td>\n",
       "      <td>1</td>\n",
       "    </tr>\n",
       "    <tr>\n",
       "      <th>14</th>\n",
       "      <td>81</td>\n",
       "      <td>1</td>\n",
       "    </tr>\n",
       "    <tr>\n",
       "      <th>15</th>\n",
       "      <td>77</td>\n",
       "      <td>1</td>\n",
       "    </tr>\n",
       "    <tr>\n",
       "      <th>16</th>\n",
       "      <td>38</td>\n",
       "      <td>0</td>\n",
       "    </tr>\n",
       "    <tr>\n",
       "      <th>17</th>\n",
       "      <td>79</td>\n",
       "      <td>1</td>\n",
       "    </tr>\n",
       "    <tr>\n",
       "      <th>18</th>\n",
       "      <td>12</td>\n",
       "      <td>0</td>\n",
       "    </tr>\n",
       "  </tbody>\n",
       "</table>\n",
       "</div>"
      ],
      "text/plain": [
       "    Age  Can_buy\n",
       "0    28        0\n",
       "1    15        0\n",
       "2    55        1\n",
       "3    36        0\n",
       "4    56        1\n",
       "5    23        0\n",
       "6    10        0\n",
       "7    89        1\n",
       "8    45        0\n",
       "9    18        1\n",
       "10   66        0\n",
       "11   41        0\n",
       "12   30        0\n",
       "13   22        1\n",
       "14   81        1\n",
       "15   77        1\n",
       "16   38        0\n",
       "17   79        1\n",
       "18   12        0"
      ]
     },
     "execution_count": 2,
     "metadata": {},
     "output_type": "execute_result"
    }
   ],
   "source": [
    "df = pd.read_csv(\"Classification_temp.csv\")\n",
    "df\n",
    "#df.head()"
   ]
  },
  {
   "cell_type": "markdown",
   "id": "b644968c",
   "metadata": {},
   "source": [
    "***"
   ]
  },
  {
   "cell_type": "markdown",
   "id": "f290bd22",
   "metadata": {},
   "source": [
    "### Plotting the Points on a Scatter Plot"
   ]
  },
  {
   "cell_type": "code",
   "execution_count": 3,
   "id": "10e9b432",
   "metadata": {},
   "outputs": [
    {
     "data": {
      "text/plain": [
       "<matplotlib.collections.PathCollection at 0x18b74733550>"
      ]
     },
     "execution_count": 3,
     "metadata": {},
     "output_type": "execute_result"
    },
    {
     "data": {
      "image/png": "[encoded data removed]",
      "text/plain": [
       "<Figure size 432x288 with 1 Axes>"
      ]
     },
     "metadata": {
      "needs_background": "light"
     },
     "output_type": "display_data"
    }
   ],
   "source": [
    "plt.scatter(df.Age,df.Can_buy,marker='*',color='blue')"
   ]
  },
  {
   "cell_type": "markdown",
   "id": "2d2f5de9",
   "metadata": {},
   "source": [
    "***"
   ]
  },
  {
   "cell_type": "code",
   "execution_count": 4,
   "id": "7204c48f",
   "metadata": {},
   "outputs": [
    {
     "data": {
      "text/plain": [
       "[<matplotlib.lines.Line2D at 0x18b74833e20>]"
      ]
     },
     "execution_count": 4,
     "metadata": {},
     "output_type": "execute_result"
    },
    {
     "data": {
      "image/png": "[encoded data removed]",
      "text/plain": [
       "<Figure size 432x288 with 1 Axes>"
      ]
     },
     "metadata": {
      "needs_background": "light"
     },
     "output_type": "display_data"
    }
   ],
   "source": [
    "plt.plot(df.Age,df.Can_buy,marker='*',color='blue')"
   ]
  },
  {
   "cell_type": "markdown",
   "id": "17066234",
   "metadata": {},
   "source": [
    "***"
   ]
  },
  {
   "cell_type": "markdown",
   "id": "e5d23347",
   "metadata": {},
   "source": [
    "### Importing train_test_split\n",
    "\n",
    "#### Seperating the Training and Testing Dataset into X_train, X_test, y_train, y_test"
   ]
  },
  {
   "cell_type": "code",
   "execution_count": 5,
   "id": "b1c56ef7",
   "metadata": {},
   "outputs": [],
   "source": [
    "from sklearn.model_selection import train_test_split\n",
    "X_train, X_test, y_train, y_test = train_test_split(df[['Age']],df.Can_buy,train_size=0.8)"
   ]
  },
  {
   "cell_type": "markdown",
   "id": "137fac4d",
   "metadata": {},
   "source": [
    "### Printing X_train & y_train "
   ]
  },
  {
   "cell_type": "code",
   "execution_count": 303,
   "id": "ada809dd",
   "metadata": {},
   "outputs": [
    {
     "name": "stdout",
     "output_type": "stream",
     "text": [
      "13    22\n",
      "7     89\n",
      "10    66\n",
      "0     28\n",
      "9     18\n",
      "16    38\n",
      "4     56\n",
      "15    77\n",
      "17    79\n",
      "8     45\n",
      "11    41\n",
      "6     10\n",
      "12    30\n",
      "3     36\n",
      "1     15\n",
      "Name: Age, dtype: int64\n",
      "\n",
      "13    1\n",
      "7     1\n",
      "10    0\n",
      "0     0\n",
      "9     1\n",
      "16    0\n",
      "4     1\n",
      "15    1\n",
      "17    1\n",
      "8     0\n",
      "11    0\n",
      "6     0\n",
      "12    0\n",
      "3     0\n",
      "1     0\n",
      "Name: Can_buy, dtype: int64\n"
     ]
    }
   ],
   "source": [
    "for i in X_train:\n",
    "    print(X_train[i])\n",
    "    print(\"\")\n",
    "    print(y_train)\n"
   ]
  },
  {
   "cell_type": "markdown",
   "id": "332d47b7",
   "metadata": {},
   "source": [
    "### Printing X_test & y_test"
   ]
  },
  {
   "cell_type": "code",
   "execution_count": 243,
   "id": "bc88fe8f",
   "metadata": {},
   "outputs": [
    {
     "data": {
      "text/html": [
       "<div>\n",
       "<style scoped>\n",
       "    .dataframe tbody tr th:only-of-type {\n",
       "        vertical-align: middle;\n",
       "    }\n",
       "\n",
       "    .dataframe tbody tr th {\n",
       "        vertical-align: top;\n",
       "    }\n",
       "\n",
       "    .dataframe thead th {\n",
       "        text-align: right;\n",
       "    }\n",
       "</style>\n",
       "<table border=\"1\" class=\"dataframe\">\n",
       "  <thead>\n",
       "    <tr style=\"text-align: right;\">\n",
       "      <th></th>\n",
       "      <th>Age</th>\n",
       "    </tr>\n",
       "  </thead>\n",
       "  <tbody>\n",
       "    <tr>\n",
       "      <th>2</th>\n",
       "      <td>55</td>\n",
       "    </tr>\n",
       "    <tr>\n",
       "      <th>5</th>\n",
       "      <td>23</td>\n",
       "    </tr>\n",
       "    <tr>\n",
       "      <th>14</th>\n",
       "      <td>81</td>\n",
       "    </tr>\n",
       "    <tr>\n",
       "      <th>18</th>\n",
       "      <td>12</td>\n",
       "    </tr>\n",
       "  </tbody>\n",
       "</table>\n",
       "</div>"
      ],
      "text/plain": [
       "    Age\n",
       "2    55\n",
       "5    23\n",
       "14   81\n",
       "18   12"
      ]
     },
     "execution_count": 243,
     "metadata": {},
     "output_type": "execute_result"
    }
   ],
   "source": [
    "X_test"
   ]
  },
  {
   "cell_type": "code",
   "execution_count": 242,
   "id": "ed53fd2f",
   "metadata": {},
   "outputs": [
    {
     "data": {
      "text/plain": [
       "2     1\n",
       "5     0\n",
       "14    1\n",
       "18    0\n",
       "Name: Can_buy, dtype: int64"
      ]
     },
     "execution_count": 242,
     "metadata": {},
     "output_type": "execute_result"
    }
   ],
   "source": [
    "y_test"
   ]
  },
  {
   "cell_type": "markdown",
   "id": "4e256ad7",
   "metadata": {},
   "source": [
    "***"
   ]
  },
  {
   "cell_type": "markdown",
   "id": "71c2cecc",
   "metadata": {},
   "source": [
    "<div class=\"alert alert-block alert-success\">\n",
    "\n",
    "### Importing Logistic Regression\n",
    "\n",
    "## &emsp;&emsp;&emsp;&emsp;&emsp;&emsp;&emsp; & \n",
    "\n",
    "### Assigning Logistic Regression to a variable - 'model'\n",
    "    \n",
    "</div>"
   ]
  },
  {
   "cell_type": "code",
   "execution_count": 280,
   "id": "312287df",
   "metadata": {},
   "outputs": [],
   "source": [
    "from sklearn.linear_model import LogisticRegression\n",
    "model = LogisticRegression()"
   ]
  },
  {
   "cell_type": "markdown",
   "id": "f0f9d6b6",
   "metadata": {},
   "source": [
    "### Fitting the X_train & y_train into 'model' i.e., Logistic Regression"
   ]
  },
  {
   "cell_type": "code",
   "execution_count": 282,
   "id": "88643a5a",
   "metadata": {},
   "outputs": [
    {
     "data": {
      "text/plain": [
       "LogisticRegression()"
      ]
     },
     "execution_count": 282,
     "metadata": {},
     "output_type": "execute_result"
    }
   ],
   "source": [
    "model.fit(X_train, y_train)"
   ]
  },
  {
   "cell_type": "markdown",
   "id": "d45f9be2",
   "metadata": {},
   "source": [
    "***"
   ]
  },
  {
   "cell_type": "code",
   "execution_count": 283,
   "id": "ca1fa871",
   "metadata": {},
   "outputs": [
    {
     "data": {
      "text/html": [
       "<div>\n",
       "<style scoped>\n",
       "    .dataframe tbody tr th:only-of-type {\n",
       "        vertical-align: middle;\n",
       "    }\n",
       "\n",
       "    .dataframe tbody tr th {\n",
       "        vertical-align: top;\n",
       "    }\n",
       "\n",
       "    .dataframe thead th {\n",
       "        text-align: right;\n",
       "    }\n",
       "</style>\n",
       "<table border=\"1\" class=\"dataframe\">\n",
       "  <thead>\n",
       "    <tr style=\"text-align: right;\">\n",
       "      <th></th>\n",
       "      <th>Age</th>\n",
       "    </tr>\n",
       "  </thead>\n",
       "  <tbody>\n",
       "    <tr>\n",
       "      <th>2</th>\n",
       "      <td>55</td>\n",
       "    </tr>\n",
       "    <tr>\n",
       "      <th>5</th>\n",
       "      <td>23</td>\n",
       "    </tr>\n",
       "    <tr>\n",
       "      <th>14</th>\n",
       "      <td>81</td>\n",
       "    </tr>\n",
       "    <tr>\n",
       "      <th>18</th>\n",
       "      <td>12</td>\n",
       "    </tr>\n",
       "  </tbody>\n",
       "</table>\n",
       "</div>"
      ],
      "text/plain": [
       "    Age\n",
       "2    55\n",
       "5    23\n",
       "14   81\n",
       "18   12"
      ]
     },
     "execution_count": 283,
     "metadata": {},
     "output_type": "execute_result"
    }
   ],
   "source": [
    "X_test"
   ]
  },
  {
   "cell_type": "code",
   "execution_count": 284,
   "id": "459f8aa6",
   "metadata": {},
   "outputs": [
    {
     "data": {
      "text/plain": [
       "array([1, 0, 1, 0], dtype=int64)"
      ]
     },
     "execution_count": 284,
     "metadata": {},
     "output_type": "execute_result"
    }
   ],
   "source": [
    "y_predicted = model.predict(X_test)\n",
    "y_predicted"
   ]
  },
  {
   "cell_type": "markdown",
   "id": "f53a9456",
   "metadata": {},
   "source": [
    "### Performing a Probabiliy Score and checking which age has what Probability"
   ]
  },
  {
   "cell_type": "code",
   "execution_count": 289,
   "id": "d3e27a32",
   "metadata": {},
   "outputs": [
    {
     "name": "stdout",
     "output_type": "stream",
     "text": [
      "    Age\n",
      "2    55\n",
      "5    23\n",
      "14   81\n",
      "18   12\n",
      " Not Buying | May Buy\n",
      "[[0.49072698 0.50927302]\n",
      " [0.79546554 0.20453446]\n",
      " [0.23671631 0.76328369]\n",
      " [0.86269081 0.13730919]]\n"
     ]
    }
   ],
   "source": [
    "print(X_test)\n",
    "print(\" Not Buying | May Buy\")\n",
    "h = model.predict_proba(X_test)\n",
    "print(h)"
   ]
  },
  {
   "cell_type": "markdown",
   "id": "80346dd2",
   "metadata": {},
   "source": [
    "***"
   ]
  },
  {
   "cell_type": "markdown",
   "id": "f59d5fdb",
   "metadata": {},
   "source": [
    "<div class=\"alert alert-block alert-warning\">\n",
    "\n",
    "## Higher the Model Score better trained is the Model\n",
    "\n",
    "### Model Score ranges from 0.0 - 1.0\n",
    "    \n",
    "</div>"
   ]
  },
  {
   "cell_type": "code",
   "execution_count": 290,
   "id": "5ad71104",
   "metadata": {},
   "outputs": [
    {
     "data": {
      "text/plain": [
       "1.0"
      ]
     },
     "execution_count": 290,
     "metadata": {},
     "output_type": "execute_result"
    }
   ],
   "source": [
    "model.score(X_test,y_test)"
   ]
  },
  {
   "cell_type": "markdown",
   "id": "ee45440b",
   "metadata": {},
   "source": [
    "***"
   ]
  },
  {
   "cell_type": "markdown",
   "id": "b7bf0ee8",
   "metadata": {},
   "source": [
    "<div class=\"alert alert-block alert-success\" align=\"center\">\n",
    "\n",
    "# Steps to Calculate Logistic Regression Mannually\n",
    "    \n",
    "</div>"
   ]
  },
  {
   "cell_type": "markdown",
   "id": "815a7d3b",
   "metadata": {},
   "source": [
    "<div class=\"alert alert-block alert-info\">\n",
    "\n",
    "#### 1) We have the X, Y coordinates.\n",
    "#### 2) First calculate the Coefficient & Intercept.\n",
    "#### 3) Substitute Values of Coefficient(m) & Intercept(c) in <u>y = mx +c.</u>\n",
    "#### 4) Hence, we get the <u>Improved Y - Coordinate.</u>\n",
    "#### 5) Then pass the <u>Improved Y - Coordinate</u> into the Sigmoid Function.\n",
    "    \n",
    "</div>"
   ]
  },
  {
   "cell_type": "markdown",
   "id": "f4b13ee8",
   "metadata": {},
   "source": [
    "***"
   ]
  },
  {
   "cell_type": "markdown",
   "id": "6ec9681d",
   "metadata": {},
   "source": [
    "<div class=\"alert alert-block alert-warning\">\n",
    "\n",
    "### Calculating the Coefficient (m)\n",
    "\n",
    "### model.coef_ indicates value of <u>m</u> in y = mx + c equation\n",
    "    \n",
    "</div>"
   ]
  },
  {
   "cell_type": "code",
   "execution_count": 293,
   "id": "ac746011",
   "metadata": {},
   "outputs": [
    {
     "data": {
      "text/plain": [
       "array([[0.04360273]])"
      ]
     },
     "execution_count": 293,
     "metadata": {},
     "output_type": "execute_result"
    }
   ],
   "source": [
    "model.coef_"
   ]
  },
  {
   "cell_type": "code",
   "execution_count": 294,
   "id": "211685e1",
   "metadata": {},
   "outputs": [
    {
     "name": "stdout",
     "output_type": "stream",
     "text": [
      "0.0436\n"
     ]
    }
   ],
   "source": [
    "x = model.coef_\n",
    "\n",
    "for i in x:\n",
    "    for j in i:\n",
    "        x1 = j\n",
    "\n",
    "x_coefficient = round(x1, 5)\n",
    "\n",
    "print(x_coefficient)"
   ]
  },
  {
   "cell_type": "markdown",
   "id": "c36a9c67",
   "metadata": {},
   "source": [
    "<div class=\"alert alert-block alert-warning\">\n",
    "\n",
    "### Calculating the Intercept (c)\n",
    "\n",
    "### model.intercept_ indicates value of <u>c</u> in y = mx + c equation\n",
    "    \n",
    "</div>"
   ]
  },
  {
   "cell_type": "code",
   "execution_count": 177,
   "id": "53ed64c9",
   "metadata": {},
   "outputs": [
    {
     "data": {
      "text/plain": [
       "array([-2.36105392])"
      ]
     },
     "execution_count": 177,
     "metadata": {},
     "output_type": "execute_result"
    }
   ],
   "source": [
    "model.intercept_"
   ]
  },
  {
   "cell_type": "code",
   "execution_count": 295,
   "id": "c3b1652b",
   "metadata": {},
   "outputs": [
    {
     "name": "stdout",
     "output_type": "stream",
     "text": [
      "-2.36105\n"
     ]
    }
   ],
   "source": [
    "c = model.intercept_\n",
    "\n",
    "for i in c:\n",
    "    c1 = i\n",
    "\n",
    "intercept = round(c1, 5)\n",
    "\n",
    "print(intercept)"
   ]
  },
  {
   "cell_type": "markdown",
   "id": "c674b8c7",
   "metadata": {},
   "source": [
    "## Defining Sigmoid / Logistic Regression Function and calculating manually"
   ]
  },
  {
   "cell_type": "code",
   "execution_count": 99,
   "id": "767b2480",
   "metadata": {},
   "outputs": [],
   "source": [
    "import math\n",
    "def sigmoid(x):\n",
    "  return 1 / (1 + math.exp(-x))"
   ]
  },
  {
   "cell_type": "markdown",
   "id": "09178627",
   "metadata": {},
   "source": [
    "<div class=\"alert alert-block alert-info\">\n",
    "\n",
    "## Defining the Prediction Function\n",
    "    \n",
    "### 1) Calculating the Improved Y - Coordinate\n",
    "### 2) Passing this Improved Y - Coordinate intor the Sigmoid Function\n",
    "\n",
    "\n",
    "<div class=\"alert alert-block alert-info\" align=\"right\">\n",
    "    \n",
    "#### *Intercept value must be converted to positive, if negative*\n",
    "    \n",
    "#### Use abs() function for the same\n",
    "    \n",
    "</div>"
   ]
  },
  {
   "cell_type": "code",
   "execution_count": 310,
   "id": "27430b3c",
   "metadata": {},
   "outputs": [],
   "source": [
    "def prediction_function(age):\n",
    "    global y\n",
    "    \n",
    "    y = (model.coef_ * age) - abs(model.intercept_)\n",
    "    \n",
    "    print(\"Y - Coordinate      : \", *y)\n",
    "    \n",
    "    y = sigmoid(y)\n",
    "    \n",
    "    print(\"Logistic Regression : \", y*100)\n",
    "    \n",
    "    print(\"\")\n",
    "    if (y) < 0.5:\n",
    "        print(\"Predicted Value = {:.5f} < 0.5, hence set as 0, i.e, \\n\\n Person with age {} doesn't have capacity to buy a Lamborghini\".format(y,age))\n",
    "    \n",
    "    else:\n",
    "        print(\"Predicted Value = {:.3f} > 0.5, hence set as 1, i.e, \\n\\n Person with age {} might have capacity to buy a Lamborghini\".format(y,age))\n",
    "        "
   ]
  },
  {
   "cell_type": "code",
   "execution_count": 389,
   "id": "2d377d23",
   "metadata": {},
   "outputs": [
    {
     "name": "stdout",
     "output_type": "stream",
     "text": [
      "Y - Coordinate      :  [-0.79135557]\n",
      "Logistic Regression :  31.18776756699463\n",
      "\n",
      "Predicted Value = 0.31188 < 0.5, hence set as 0, i.e, \n",
      "\n",
      " Person with age 36 doesn't have capacity to buy a Lamborghini\n"
     ]
    }
   ],
   "source": [
    "prediction_function(36)"
   ]
  },
  {
   "cell_type": "code",
   "execution_count": 312,
   "id": "0771cc60",
   "metadata": {},
   "outputs": [
    {
     "name": "stdout",
     "output_type": "stream",
     "text": [
      "Y - Coordinate      :  [0.38591819]\n",
      "Logistic Regression :  59.52997007836234\n",
      "\n",
      "Predicted Value = 0.595 > 0.5, hence set as 1, i.e, \n",
      "\n",
      " Person with age 63 might have capacity to buy a Lamborghini\n"
     ]
    }
   ],
   "source": [
    "age = 63                    #so here the threshold is 36\n",
    "prediction_function(age)"
   ]
  },
  {
   "cell_type": "code",
   "execution_count": null,
   "id": "a2510f7d",
   "metadata": {},
   "outputs": [],
   "source": []
  },
  {
   "cell_type": "code",
   "execution_count": null,
   "id": "51a7437e",
   "metadata": {},
   "outputs": [],
   "source": []
  },
  {
   "cell_type": "code",
   "execution_count": 321,
   "id": "4812f095",
   "metadata": {},
   "outputs": [],
   "source": [
    "age = {28, 15, 55, 36, 56, 23, 10, 89, 45, 18, 66, 41, 30, 22, 81, 77, 38, 79, 12}\n",
    "buy = [0, 0, 1, 0, 1, 0, 0, 1, 0, 1, 0, 0, 0, 1, 1, 1, 0, 1, 0]"
   ]
  },
  {
   "cell_type": "code",
   "execution_count": 322,
   "id": "5cb773f6",
   "metadata": {},
   "outputs": [],
   "source": [
    "def prediction_function(age):\n",
    "    global y\n",
    "    \n",
    "    y = (model.coef_ * age) - abs(model.intercept_)\n",
    "    \n",
    "    print(\"Y - Coordinate      : \", *y)\n",
    "    \n",
    "    y = sigmoid(y)\n",
    "    \n",
    "    print(\"Logistic Regression : \", y*100)\n",
    "    \n",
    "    print(\"\")\n",
    "    if (y) < 0.5:\n",
    "        print(\"Predicted Value = {:.5f} < 0.5, hence set as 0, i.e, \\n\\n Person with age {} doesn't have capacity to buy a Lamborghini\".format(y,age))\n",
    "    \n",
    "    else:\n",
    "        print(\"Predicted Value = {:.3f} > 0.5, hence set as 1, i.e, \\n\\n Person with age {} might have capacity to buy a Lamborghini\".format(y,age))\n",
    "        "
   ]
  },
  {
   "cell_type": "code",
   "execution_count": 323,
   "id": "54472a0c",
   "metadata": {},
   "outputs": [
    {
     "name": "stdout",
     "output_type": "stream",
     "text": [
      "Y - Coordinate      :  [0.51672638]\n",
      "Logistic Regression :  62.638196682489266\n",
      "\n",
      "Predicted Value = 0.626 > 0.5, hence set as 1, i.e, \n",
      "\n",
      " Person with age 66 might have capacity to buy a Lamborghini\n"
     ]
    }
   ],
   "source": [
    "prediction_function(66)"
   ]
  },
  {
   "cell_type": "code",
   "execution_count": 324,
   "id": "a1b639dc",
   "metadata": {},
   "outputs": [],
   "source": [
    "def sigmoid(x):\n",
    "  return 1 / (1 + math.exp(-x))"
   ]
  },
  {
   "cell_type": "code",
   "execution_count": 381,
   "id": "af3157e7",
   "metadata": {},
   "outputs": [
    {
     "name": "stdout",
     "output_type": "stream",
     "text": [
      "Size of List :  19\n",
      " i  |        Sigmoid       | Given Input\n",
      "\n",
      "10  |  0.9999546021312976  |  0\n",
      "12  |  0.9999938558253978  |  0\n",
      "15  |  0.999999694097773  |  1\n",
      "18  |  0.9999999847700205  |  0\n",
      "22  |  0.9999999997210531  |  1\n",
      "23  |  0.9999999998973812  |  0\n",
      "28  |  0.9999999999993086  |  0\n",
      "30  |  0.9999999999999065  |  1\n",
      "36  |  0.9999999999999998  |  0\n",
      "38  |  1.0  |  1\n",
      "41  |  1.0  |  0\n",
      "45  |  1.0  |  0\n",
      "55  |  1.0  |  0\n",
      "56  |  1.0  |  1\n",
      "66  |  1.0  |  1\n",
      "77  |  1.0  |  1\n",
      "79  |  1.0  |  0\n",
      "81  |  1.0  |  1\n",
      "89  |  1.0  |  0\n",
      "\n",
      "[0.9999546021312976, 0.9999938558253978, 0.999999694097773, 0.9999999847700205, 0.9999999997210531, 0.9999999998973812, 0.9999999999993086, 0.9999999999999065, 0.9999999999999998, 1.0, 1.0, 1.0, 1.0, 1.0, 1.0, 1.0, 1.0, 1.0, 1.0]\n"
     ]
    }
   ],
   "source": [
    "print(\"Size of List : \", len(age))\n",
    "\n",
    "logistic = []\n",
    "\n",
    "print(\" i  |        Sigmoid       | Given Input\")\n",
    "print(\"\")\n",
    "for i,k in zip(age, buy):\n",
    "    d = sigmoid(i)\n",
    "    print(i,\" | \", d, \" | \", k)\n",
    "    logistic.append(d)\n",
    "\n",
    "print(\"\")\n",
    "print(logistic)"
   ]
  },
  {
   "cell_type": "code",
   "execution_count": 383,
   "id": "e6c1744d",
   "metadata": {
    "scrolled": false
   },
   "outputs": [
    {
     "name": "stdout",
     "output_type": "stream",
     "text": [
      " X  |    Y\n",
      "Age | Can Buy?\n",
      "10  |    0\n",
      "12  |    0\n",
      "15  |    1\n",
      "18  |    0\n",
      "22  |    1\n",
      "23  |    0\n",
      "28  |    0\n",
      "30  |    1\n",
      "36  |    0\n",
      "38  |    1\n",
      "41  |    0\n",
      "45  |    0\n",
      "55  |    0\n",
      "56  |    1\n",
      "66  |    1\n",
      "77  |    1\n",
      "79  |    0\n",
      "81  |    1\n",
      "89  |    0\n"
     ]
    },
    {
     "data": {
      "image/png": "[encoded data removed]",
      "text/plain": [
       "<Figure size 432x288 with 1 Axes>"
      ]
     },
     "metadata": {
      "needs_background": "light"
     },
     "output_type": "display_data"
    }
   ],
   "source": [
    "print(\" X  |    Y\")\n",
    "print(\"Age | Can Buy?\")\n",
    "\n",
    "for k,l in zip(age, buy):\n",
    "    print(k,\" |   \", l) \n",
    "    \n",
    "    plt.scatter(k, l)\n",
    "    plt.plot(k, l)\n",
    "    plt.xlabel('X')\n",
    "    plt.ylabel('Sigmoid')\n",
    "plt.show()"
   ]
  },
  {
   "cell_type": "code",
   "execution_count": 388,
   "id": "ccb0615f",
   "metadata": {},
   "outputs": [
    {
     "name": "stdout",
     "output_type": "stream",
     "text": [
      " X  |    Y\n",
      "Age | Can Buy?\n",
      "10  | 0.9999546021312976\n",
      "12  | 0.9999938558253978\n",
      "15  | 0.999999694097773\n",
      "18  | 0.9999999847700205\n",
      "22  | 0.9999999997210531\n",
      "23  | 0.9999999998973812\n",
      "28  | 0.9999999999993086\n",
      "30  | 0.9999999999999065\n",
      "36  | 0.9999999999999998\n",
      "38  | 1.0\n",
      "41  | 1.0\n",
      "45  | 1.0\n",
      "55  | 1.0\n",
      "56  | 1.0\n",
      "66  | 1.0\n",
      "77  | 1.0\n",
      "79  | 1.0\n",
      "81  | 1.0\n",
      "89  | 1.0\n"
     ]
    },
    {
     "data": {
      "image/png": "[encoded data removed]",
      "text/plain": [
       "<Figure size 432x288 with 1 Axes>"
      ]
     },
     "metadata": {
      "needs_background": "light"
     },
     "output_type": "display_data"
    }
   ],
   "source": [
    "print(\" X  |    Y\")\n",
    "print(\"Age | Can Buy?\")\n",
    "\n",
    "for k,l in zip(age, logistic):\n",
    "    print(k,\" |\", l) \n",
    "    \n",
    "    plt.scatter(k, l)\n",
    "    plt.plot(k, l)\n",
    "    plt.xlabel('X')\n",
    "    plt.ylabel('Sigmoid')\n",
    "plt.show()"
   ]
  }
 ],
 "metadata": {
  "kernelspec": {
   "display_name": "Python 3 (ipykernel)",
   "language": "python",
   "name": "python3"
  },
  "language_info": {
   "codemirror_mode": {
    "name": "ipython",
    "version": 3
   },
   "file_extension": ".py",
   "mimetype": "text/x-python",
   "name": "python",
   "nbconvert_exporter": "python",
   "pygments_lexer": "ipython3",
   "version": "3.8.10"
  }
 },
 "nbformat": 4,
 "nbformat_minor": 5
}
