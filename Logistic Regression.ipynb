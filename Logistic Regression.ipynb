{
 "cells": [
  {
   "cell_type": "code",
   "execution_count": 16,
   "id": "f5537262",
   "metadata": {},
   "outputs": [],
   "source": [
    "import matplotlib.pyplot as plt\n",
    "import numpy as np"
   ]
  },
  {
   "cell_type": "code",
   "execution_count": 75,
   "id": "212199a9",
   "metadata": {
    "scrolled": false
   },
   "outputs": [
    {
     "data": {
      "text/plain": [
       "array([-1.00000000e+01, -9.90000000e+00, -9.80000000e+00, -9.70000000e+00,\n",
       "       -9.60000000e+00, -9.50000000e+00, -9.40000000e+00, -9.30000000e+00,\n",
       "       -9.20000000e+00, -9.10000000e+00, -9.00000000e+00, -8.90000000e+00,\n",
       "       -8.80000000e+00, -8.70000000e+00, -8.60000000e+00, -8.50000000e+00,\n",
       "       -8.40000000e+00, -8.30000000e+00, -8.20000000e+00, -8.10000000e+00,\n",
       "       -8.00000000e+00, -7.90000000e+00, -7.80000000e+00, -7.70000000e+00,\n",
       "       -7.60000000e+00, -7.50000000e+00, -7.40000000e+00, -7.30000000e+00,\n",
       "       -7.20000000e+00, -7.10000000e+00, -7.00000000e+00, -6.90000000e+00,\n",
       "       -6.80000000e+00, -6.70000000e+00, -6.60000000e+00, -6.50000000e+00,\n",
       "       -6.40000000e+00, -6.30000000e+00, -6.20000000e+00, -6.10000000e+00,\n",
       "       -6.00000000e+00, -5.90000000e+00, -5.80000000e+00, -5.70000000e+00,\n",
       "       -5.60000000e+00, -5.50000000e+00, -5.40000000e+00, -5.30000000e+00,\n",
       "       -5.20000000e+00, -5.10000000e+00, -5.00000000e+00, -4.90000000e+00,\n",
       "       -4.80000000e+00, -4.70000000e+00, -4.60000000e+00, -4.50000000e+00,\n",
       "       -4.40000000e+00, -4.30000000e+00, -4.20000000e+00, -4.10000000e+00,\n",
       "       -4.00000000e+00, -3.90000000e+00, -3.80000000e+00, -3.70000000e+00,\n",
       "       -3.60000000e+00, -3.50000000e+00, -3.40000000e+00, -3.30000000e+00,\n",
       "       -3.20000000e+00, -3.10000000e+00, -3.00000000e+00, -2.90000000e+00,\n",
       "       -2.80000000e+00, -2.70000000e+00, -2.60000000e+00, -2.50000000e+00,\n",
       "       -2.40000000e+00, -2.30000000e+00, -2.20000000e+00, -2.10000000e+00,\n",
       "       -2.00000000e+00, -1.90000000e+00, -1.80000000e+00, -1.70000000e+00,\n",
       "       -1.60000000e+00, -1.50000000e+00, -1.40000000e+00, -1.30000000e+00,\n",
       "       -1.20000000e+00, -1.10000000e+00, -1.00000000e+00, -9.00000000e-01,\n",
       "       -8.00000000e-01, -7.00000000e-01, -6.00000000e-01, -5.00000000e-01,\n",
       "       -4.00000000e-01, -3.00000000e-01, -2.00000000e-01, -1.00000000e-01,\n",
       "       -3.55271368e-14,  1.00000000e-01,  2.00000000e-01,  3.00000000e-01,\n",
       "        4.00000000e-01,  5.00000000e-01,  6.00000000e-01,  7.00000000e-01,\n",
       "        8.00000000e-01,  9.00000000e-01,  1.00000000e+00,  1.10000000e+00,\n",
       "        1.20000000e+00,  1.30000000e+00,  1.40000000e+00,  1.50000000e+00,\n",
       "        1.60000000e+00,  1.70000000e+00,  1.80000000e+00,  1.90000000e+00,\n",
       "        2.00000000e+00,  2.10000000e+00,  2.20000000e+00,  2.30000000e+00,\n",
       "        2.40000000e+00,  2.50000000e+00,  2.60000000e+00,  2.70000000e+00,\n",
       "        2.80000000e+00,  2.90000000e+00,  3.00000000e+00,  3.10000000e+00,\n",
       "        3.20000000e+00,  3.30000000e+00,  3.40000000e+00,  3.50000000e+00,\n",
       "        3.60000000e+00,  3.70000000e+00,  3.80000000e+00,  3.90000000e+00,\n",
       "        4.00000000e+00,  4.10000000e+00,  4.20000000e+00,  4.30000000e+00,\n",
       "        4.40000000e+00,  4.50000000e+00,  4.60000000e+00,  4.70000000e+00,\n",
       "        4.80000000e+00,  4.90000000e+00,  5.00000000e+00,  5.10000000e+00,\n",
       "        5.20000000e+00,  5.30000000e+00,  5.40000000e+00,  5.50000000e+00,\n",
       "        5.60000000e+00,  5.70000000e+00,  5.80000000e+00,  5.90000000e+00,\n",
       "        6.00000000e+00,  6.10000000e+00,  6.20000000e+00,  6.30000000e+00,\n",
       "        6.40000000e+00,  6.50000000e+00,  6.60000000e+00,  6.70000000e+00,\n",
       "        6.80000000e+00,  6.90000000e+00,  7.00000000e+00,  7.10000000e+00,\n",
       "        7.20000000e+00,  7.30000000e+00,  7.40000000e+00,  7.50000000e+00,\n",
       "        7.60000000e+00,  7.70000000e+00,  7.80000000e+00,  7.90000000e+00,\n",
       "        8.00000000e+00,  8.10000000e+00,  8.20000000e+00,  8.30000000e+00,\n",
       "        8.40000000e+00,  8.50000000e+00,  8.60000000e+00,  8.70000000e+00,\n",
       "        8.80000000e+00,  8.90000000e+00,  9.00000000e+00,  9.10000000e+00,\n",
       "        9.20000000e+00,  9.30000000e+00,  9.40000000e+00,  9.50000000e+00,\n",
       "        9.60000000e+00,  9.70000000e+00,  9.80000000e+00,  9.90000000e+00])"
      ]
     },
     "execution_count": 75,
     "metadata": {},
     "output_type": "execute_result"
    }
   ],
   "source": [
    "x = np.arange(-10,10,0.1)\n",
    "x"
   ]
  },
  {
   "cell_type": "code",
   "execution_count": 61,
   "id": "c968061f",
   "metadata": {
    "scrolled": false
   },
   "outputs": [
    {
     "name": "stdout",
     "output_type": "stream",
     "text": [
      "-10.0\n",
      "-9.9\n",
      "-9.8\n",
      "-9.700000000000001\n",
      "-9.600000000000001\n",
      "-9.500000000000002\n",
      "-9.400000000000002\n",
      "-9.300000000000002\n",
      "-9.200000000000003\n",
      "-9.100000000000003\n",
      "-9.000000000000004\n",
      "-8.900000000000004\n",
      "-8.800000000000004\n",
      "-8.700000000000005\n",
      "-8.600000000000005\n",
      "-8.500000000000005\n",
      "-8.400000000000006\n",
      "-8.300000000000006\n",
      "-8.200000000000006\n",
      "-8.100000000000007\n",
      "-8.000000000000007\n",
      "-7.9000000000000075\n",
      "-7.800000000000008\n",
      "-7.700000000000008\n",
      "-7.6000000000000085\n",
      "-7.500000000000009\n",
      "-7.400000000000009\n",
      "-7.30000000000001\n",
      "-7.20000000000001\n",
      "-7.10000000000001\n",
      "-7.000000000000011\n",
      "-6.900000000000011\n",
      "-6.800000000000011\n",
      "-6.700000000000012\n",
      "-6.600000000000012\n",
      "-6.500000000000012\n",
      "-6.400000000000013\n",
      "-6.300000000000013\n",
      "-6.2000000000000135\n",
      "-6.100000000000014\n",
      "-6.000000000000014\n",
      "-5.900000000000015\n",
      "-5.800000000000015\n",
      "-5.700000000000015\n",
      "-5.600000000000016\n",
      "-5.500000000000016\n",
      "-5.400000000000016\n",
      "-5.300000000000017\n",
      "-5.200000000000017\n",
      "-5.100000000000017\n",
      "-5.000000000000018\n",
      "-4.900000000000018\n",
      "-4.8000000000000185\n",
      "-4.700000000000019\n",
      "-4.600000000000019\n",
      "-4.5000000000000195\n",
      "-4.40000000000002\n",
      "-4.30000000000002\n",
      "-4.200000000000021\n",
      "-4.100000000000021\n",
      "-4.000000000000021\n",
      "-3.9000000000000217\n",
      "-3.800000000000022\n",
      "-3.7000000000000224\n",
      "-3.6000000000000227\n",
      "-3.500000000000023\n",
      "-3.4000000000000234\n",
      "-3.300000000000024\n",
      "-3.200000000000024\n",
      "-3.1000000000000245\n",
      "-3.000000000000025\n",
      "-2.9000000000000252\n",
      "-2.8000000000000256\n",
      "-2.700000000000026\n",
      "-2.6000000000000263\n",
      "-2.5000000000000266\n",
      "-2.400000000000027\n",
      "-2.3000000000000274\n",
      "-2.2000000000000277\n",
      "-2.100000000000028\n",
      "-2.0000000000000284\n",
      "-1.9000000000000288\n",
      "-1.8000000000000291\n",
      "-1.7000000000000295\n",
      "-1.6000000000000298\n",
      "-1.5000000000000302\n",
      "-1.4000000000000306\n",
      "-1.300000000000031\n",
      "-1.2000000000000313\n",
      "-1.1000000000000316\n",
      "-1.000000000000032\n",
      "-0.9000000000000323\n",
      "-0.8000000000000327\n",
      "-0.700000000000033\n",
      "-0.6000000000000334\n",
      "-0.5000000000000338\n",
      "-0.4000000000000341\n",
      "-0.30000000000003446\n",
      "-0.20000000000003482\n",
      "-0.10000000000003517\n",
      "-3.552713678800501e-14\n",
      "0.09999999999996412\n",
      "0.19999999999996376\n",
      "0.2999999999999634\n",
      "0.39999999999996305\n",
      "0.4999999999999627\n",
      "0.5999999999999623\n",
      "0.699999999999962\n",
      "0.7999999999999616\n",
      "0.8999999999999613\n",
      "0.9999999999999609\n",
      "1.0999999999999606\n",
      "1.1999999999999602\n",
      "1.2999999999999599\n",
      "1.3999999999999595\n",
      "1.4999999999999591\n",
      "1.5999999999999588\n",
      "1.6999999999999584\n",
      "1.799999999999958\n",
      "1.8999999999999577\n",
      "1.9999999999999574\n",
      "2.099999999999957\n",
      "2.1999999999999567\n",
      "2.2999999999999563\n",
      "2.399999999999956\n",
      "2.4999999999999556\n",
      "2.5999999999999552\n",
      "2.699999999999955\n",
      "2.7999999999999545\n",
      "2.899999999999954\n",
      "2.999999999999954\n",
      "3.0999999999999535\n",
      "3.199999999999953\n",
      "3.2999999999999527\n",
      "3.3999999999999524\n",
      "3.499999999999952\n",
      "3.5999999999999517\n",
      "3.6999999999999513\n",
      "3.799999999999951\n",
      "3.8999999999999506\n",
      "3.9999999999999503\n",
      "4.09999999999995\n",
      "4.1999999999999496\n",
      "4.299999999999949\n",
      "4.399999999999949\n",
      "4.4999999999999485\n",
      "4.599999999999948\n",
      "4.699999999999948\n",
      "4.799999999999947\n",
      "4.899999999999947\n",
      "4.999999999999947\n",
      "5.099999999999946\n",
      "5.199999999999946\n",
      "5.299999999999946\n",
      "5.399999999999945\n",
      "5.499999999999945\n",
      "5.599999999999945\n",
      "5.699999999999944\n",
      "5.799999999999944\n",
      "5.8999999999999435\n",
      "5.999999999999943\n",
      "6.099999999999945\n",
      "6.1999999999999424\n",
      "6.29999999999994\n",
      "6.399999999999942\n",
      "6.499999999999943\n",
      "6.599999999999941\n",
      "6.699999999999939\n",
      "6.79999999999994\n",
      "6.899999999999942\n",
      "6.99999999999994\n",
      "7.0999999999999375\n",
      "7.199999999999939\n",
      "7.29999999999994\n",
      "7.399999999999938\n",
      "7.499999999999936\n",
      "7.5999999999999375\n",
      "7.699999999999939\n",
      "7.799999999999937\n",
      "7.899999999999935\n",
      "7.999999999999936\n",
      "8.099999999999937\n",
      "8.199999999999935\n",
      "8.299999999999933\n",
      "8.399999999999935\n",
      "8.499999999999936\n",
      "8.599999999999934\n",
      "8.699999999999932\n",
      "8.799999999999933\n",
      "8.899999999999935\n",
      "8.999999999999932\n",
      "9.09999999999993\n",
      "9.199999999999932\n",
      "9.299999999999933\n",
      "9.399999999999931\n",
      "9.499999999999929\n",
      "9.59999999999993\n",
      "9.699999999999932\n",
      "9.79999999999993\n",
      "9.899999999999928\n"
     ]
    }
   ],
   "source": [
    "for i in x:\n",
    "    print(i)\n",
    "    #print(round(i, 3))"
   ]
  },
  {
   "cell_type": "code",
   "execution_count": 62,
   "id": "d8c2d751",
   "metadata": {
    "scrolled": false
   },
   "outputs": [
    {
     "name": "stdout",
     "output_type": "stream",
     "text": [
      " x  |      Sigmoid\n",
      "\n",
      "-10 | 0.0\n",
      "-9 | 0.0001\n",
      "-8 | 0.0003\n",
      "-7 | 0.0009\n",
      "-6 | 0.0025\n",
      "-5 | 0.0067\n",
      "-4 | 0.018\n",
      "-3 | 0.0474\n",
      "-2 | 0.1192\n",
      "-1 | 0.2689\n",
      "0 | 0.5\n",
      "1 | 0.7311\n",
      "2 | 0.8808\n",
      "3 | 0.9526\n",
      "4 | 0.982\n",
      "5 | 0.9933\n",
      "6 | 0.9975\n",
      "7 | 0.9991\n",
      "8 | 0.9997\n",
      "9 | 0.9999\n"
     ]
    }
   ],
   "source": [
    "print(\" x  |      Sigmoid\")\n",
    "print(\"\")\n",
    "\n",
    "for x in range(-10,10):\n",
    "    sigmoid = 1 / (1 + math.exp(-x))\n",
    "    \n",
    "    #print(x, \"|\", sigmoid)\n",
    "    print(x, \"|\", round(sigmoid, 4))"
   ]
  },
  {
   "cell_type": "code",
   "execution_count": 57,
   "id": "34fb07c2",
   "metadata": {},
   "outputs": [],
   "source": [
    "x = np.arange(-10,10,0.1)\n",
    "sigmoid = 1 / (1 + np.exp(-x))"
   ]
  },
  {
   "cell_type": "code",
   "execution_count": 63,
   "id": "9e539f08",
   "metadata": {
    "scrolled": true
   },
   "outputs": [
    {
     "ename": "TypeError",
     "evalue": "only size-1 arrays can be converted to Python scalars",
     "output_type": "error",
     "traceback": [
      "\u001b[1;31m---------------------------------------------------------------------------\u001b[0m",
      "\u001b[1;31mTypeError\u001b[0m                                 Traceback (most recent call last)",
      "\u001b[1;32mC:\\Users\\Public\\Documents\\iSkysoft\\CreatorTemp/ipykernel_16020/913732857.py\u001b[0m in \u001b[0;36m<module>\u001b[1;34m\u001b[0m\n\u001b[0;32m      1\u001b[0m \u001b[0mx\u001b[0m \u001b[1;33m=\u001b[0m \u001b[0mnp\u001b[0m\u001b[1;33m.\u001b[0m\u001b[0marange\u001b[0m\u001b[1;33m(\u001b[0m\u001b[1;33m-\u001b[0m\u001b[1;36m10\u001b[0m\u001b[1;33m,\u001b[0m\u001b[1;36m10\u001b[0m\u001b[1;33m,\u001b[0m\u001b[1;36m0.1\u001b[0m\u001b[1;33m)\u001b[0m\u001b[1;33m\u001b[0m\u001b[1;33m\u001b[0m\u001b[0m\n\u001b[1;32m----> 2\u001b[1;33m \u001b[0msigmoid\u001b[0m \u001b[1;33m=\u001b[0m \u001b[1;36m1\u001b[0m \u001b[1;33m/\u001b[0m \u001b[1;33m(\u001b[0m\u001b[1;36m1\u001b[0m \u001b[1;33m+\u001b[0m \u001b[0mmath\u001b[0m\u001b[1;33m.\u001b[0m\u001b[0mexp\u001b[0m\u001b[1;33m(\u001b[0m\u001b[1;33m-\u001b[0m\u001b[0mx\u001b[0m\u001b[1;33m)\u001b[0m\u001b[1;33m)\u001b[0m\u001b[1;33m\u001b[0m\u001b[1;33m\u001b[0m\u001b[0m\n\u001b[0m",
      "\u001b[1;31mTypeError\u001b[0m: only size-1 arrays can be converted to Python scalars"
     ]
    }
   ],
   "source": [
    "x = np.arange(-10,10,0.1)\n",
    "sigmoid = 1 / (1 + math.exp(-x))"
   ]
  },
  {
   "cell_type": "code",
   "execution_count": 58,
   "id": "0b395209",
   "metadata": {},
   "outputs": [
    {
     "data": {
      "image/png": "[encoded data removed]",
      "text/plain": [
       "<Figure size 432x288 with 1 Axes>"
      ]
     },
     "metadata": {
      "needs_background": "light"
     },
     "output_type": "display_data"
    }
   ],
   "source": [
    "plt.plot(x, sigmoid)\n",
    "plt.xlabel('x')\n",
    "plt.ylabel('f(x)')\n",
    "plt.show()"
   ]
  },
  {
   "cell_type": "code",
   "execution_count": null,
   "id": "2358e180",
   "metadata": {},
   "outputs": [],
   "source": []
  },
  {
   "cell_type": "markdown",
   "id": "d3d0d406",
   "metadata": {},
   "source": [
    "# Logistic Regression\n",
    "\n",
    "### Sigmoid Function / Logistic Regression:   σ(z)=1/(1+ⅇ^(-z) )\n",
    "\n",
    "Logistic Regression is a Classification Algorithm unlike Linear Regression which is a Regression Algorithm.\n",
    "\n",
    "So here there can be as many features as required but the target values will be just binary i.e., 2!\n",
    "Target could be either Yes/No, 0/1… etc.\n",
    "\n",
    "Consider a dataset in which a group of people who want / need to buy a Life Insurance Policy:\n",
    "\n",
    "Either the person will buy the Insurance = 1\n",
    "\n",
    "Or the person will not buy the Insurance = 0\n"
   ]
  },
  {
   "cell_type": "markdown",
   "id": "bc9d1859",
   "metadata": {},
   "source": [
    "### Age = 50, 28, 36, 22, 31, 48, 65, 58, 18, 27, 39, 20, 29, 44, 78, 70, 23, 45, 30\n",
    "\n",
    "### Salary = 1, 0, 0, 0, 1, 1, 0, 1, 1, 0, 0, 0, 0, 1, 1, 0, 0, 1, 0"
   ]
  },
  {
   "cell_type": "code",
   "execution_count": 73,
   "id": "2300d21c",
   "metadata": {},
   "outputs": [
    {
     "name": "stdout",
     "output_type": "stream",
     "text": [
      "50 | 1.0\n",
      "28 | 0.9999999999993086\n",
      "36 | 0.9999999999999998\n",
      "22 | 0.9999999997210531\n",
      "31 | 0.9999999999999656\n",
      "48 | 1.0\n",
      "65 | 1.0\n",
      "58 | 1.0\n",
      "18 | 0.9999999847700205\n",
      "27 | 0.9999999999981204\n",
      "39 | 1.0\n",
      "20 | 0.9999999979388463\n",
      "29 | 0.9999999999997455\n",
      "44 | 1.0\n",
      "78 | 1.0\n",
      "70 | 1.0\n",
      "23 | 0.9999999998973812\n",
      "45 | 1.0\n",
      "30 | 0.9999999999999065\n"
     ]
    },
    {
     "data": {
      "image/png": "[encoded data removed]",
      "text/plain": [
       "<Figure size 432x288 with 1 Axes>"
      ]
     },
     "metadata": {
      "needs_background": "light"
     },
     "output_type": "display_data"
    }
   ],
   "source": [
    "x = [50, 28, 36, 22, 31, 48, 65, 58, 18, 27, 39, 20, 29, 44, 78, 70, 23, 45, 30]\n",
    "\n",
    "for i in x:\n",
    "    sigmoid = 1 / (1 + np.exp(-i))\n",
    "    \n",
    "    print(i, \"|\", sigmoid)\n",
    "    \n",
    "\n",
    "plt.plot(x, sigmoid)\n",
    "plt.xlabel('x')\n",
    "plt.ylabel('f(x)')\n",
    "plt.show()\n"
   ]
  },
  {
   "cell_type": "code",
   "execution_count": 74,
   "id": "9d0deefc",
   "metadata": {},
   "outputs": [
    {
     "ename": "ValueError",
     "evalue": "x and y must have same first dimension, but have shapes (19,) and (1,)",
     "output_type": "error",
     "traceback": [
      "\u001b[1;31m---------------------------------------------------------------------------\u001b[0m",
      "\u001b[1;31mValueError\u001b[0m                                Traceback (most recent call last)",
      "\u001b[1;32mC:\\Users\\Public\\Documents\\iSkysoft\\CreatorTemp/ipykernel_16020/3142733242.py\u001b[0m in \u001b[0;36m<module>\u001b[1;34m\u001b[0m\n\u001b[1;32m----> 1\u001b[1;33m \u001b[0mplt\u001b[0m\u001b[1;33m.\u001b[0m\u001b[0mplot\u001b[0m\u001b[1;33m(\u001b[0m\u001b[0mx\u001b[0m\u001b[1;33m,\u001b[0m \u001b[0msigmoid\u001b[0m\u001b[1;33m)\u001b[0m\u001b[1;33m\u001b[0m\u001b[1;33m\u001b[0m\u001b[0m\n\u001b[0m\u001b[0;32m      2\u001b[0m \u001b[0mplt\u001b[0m\u001b[1;33m.\u001b[0m\u001b[0mxlabel\u001b[0m\u001b[1;33m(\u001b[0m\u001b[1;34m'x'\u001b[0m\u001b[1;33m)\u001b[0m\u001b[1;33m\u001b[0m\u001b[1;33m\u001b[0m\u001b[0m\n\u001b[0;32m      3\u001b[0m \u001b[0mplt\u001b[0m\u001b[1;33m.\u001b[0m\u001b[0mylabel\u001b[0m\u001b[1;33m(\u001b[0m\u001b[1;34m'f(x)'\u001b[0m\u001b[1;33m)\u001b[0m\u001b[1;33m\u001b[0m\u001b[1;33m\u001b[0m\u001b[0m\n\u001b[0;32m      4\u001b[0m \u001b[0mplt\u001b[0m\u001b[1;33m.\u001b[0m\u001b[0mshow\u001b[0m\u001b[1;33m(\u001b[0m\u001b[1;33m)\u001b[0m\u001b[1;33m\u001b[0m\u001b[1;33m\u001b[0m\u001b[0m\n",
      "\u001b[1;32mc:\\users\\user\\appdata\\local\\programs\\python\\python38\\lib\\site-packages\\matplotlib\\pyplot.py\u001b[0m in \u001b[0;36mplot\u001b[1;34m(scalex, scaley, data, *args, **kwargs)\u001b[0m\n\u001b[0;32m   3017\u001b[0m \u001b[1;33m@\u001b[0m\u001b[0m_copy_docstring_and_deprecators\u001b[0m\u001b[1;33m(\u001b[0m\u001b[0mAxes\u001b[0m\u001b[1;33m.\u001b[0m\u001b[0mplot\u001b[0m\u001b[1;33m)\u001b[0m\u001b[1;33m\u001b[0m\u001b[1;33m\u001b[0m\u001b[0m\n\u001b[0;32m   3018\u001b[0m \u001b[1;32mdef\u001b[0m \u001b[0mplot\u001b[0m\u001b[1;33m(\u001b[0m\u001b[1;33m*\u001b[0m\u001b[0margs\u001b[0m\u001b[1;33m,\u001b[0m \u001b[0mscalex\u001b[0m\u001b[1;33m=\u001b[0m\u001b[1;32mTrue\u001b[0m\u001b[1;33m,\u001b[0m \u001b[0mscaley\u001b[0m\u001b[1;33m=\u001b[0m\u001b[1;32mTrue\u001b[0m\u001b[1;33m,\u001b[0m \u001b[0mdata\u001b[0m\u001b[1;33m=\u001b[0m\u001b[1;32mNone\u001b[0m\u001b[1;33m,\u001b[0m \u001b[1;33m**\u001b[0m\u001b[0mkwargs\u001b[0m\u001b[1;33m)\u001b[0m\u001b[1;33m:\u001b[0m\u001b[1;33m\u001b[0m\u001b[1;33m\u001b[0m\u001b[0m\n\u001b[1;32m-> 3019\u001b[1;33m     return gca().plot(\n\u001b[0m\u001b[0;32m   3020\u001b[0m         \u001b[1;33m*\u001b[0m\u001b[0margs\u001b[0m\u001b[1;33m,\u001b[0m \u001b[0mscalex\u001b[0m\u001b[1;33m=\u001b[0m\u001b[0mscalex\u001b[0m\u001b[1;33m,\u001b[0m \u001b[0mscaley\u001b[0m\u001b[1;33m=\u001b[0m\u001b[0mscaley\u001b[0m\u001b[1;33m,\u001b[0m\u001b[1;33m\u001b[0m\u001b[1;33m\u001b[0m\u001b[0m\n\u001b[0;32m   3021\u001b[0m         **({\"data\": data} if data is not None else {}), **kwargs)\n",
      "\u001b[1;32mc:\\users\\user\\appdata\\local\\programs\\python\\python38\\lib\\site-packages\\matplotlib\\axes\\_axes.py\u001b[0m in \u001b[0;36mplot\u001b[1;34m(self, scalex, scaley, data, *args, **kwargs)\u001b[0m\n\u001b[0;32m   1603\u001b[0m         \"\"\"\n\u001b[0;32m   1604\u001b[0m         \u001b[0mkwargs\u001b[0m \u001b[1;33m=\u001b[0m \u001b[0mcbook\u001b[0m\u001b[1;33m.\u001b[0m\u001b[0mnormalize_kwargs\u001b[0m\u001b[1;33m(\u001b[0m\u001b[0mkwargs\u001b[0m\u001b[1;33m,\u001b[0m \u001b[0mmlines\u001b[0m\u001b[1;33m.\u001b[0m\u001b[0mLine2D\u001b[0m\u001b[1;33m)\u001b[0m\u001b[1;33m\u001b[0m\u001b[1;33m\u001b[0m\u001b[0m\n\u001b[1;32m-> 1605\u001b[1;33m         \u001b[0mlines\u001b[0m \u001b[1;33m=\u001b[0m \u001b[1;33m[\u001b[0m\u001b[1;33m*\u001b[0m\u001b[0mself\u001b[0m\u001b[1;33m.\u001b[0m\u001b[0m_get_lines\u001b[0m\u001b[1;33m(\u001b[0m\u001b[1;33m*\u001b[0m\u001b[0margs\u001b[0m\u001b[1;33m,\u001b[0m \u001b[0mdata\u001b[0m\u001b[1;33m=\u001b[0m\u001b[0mdata\u001b[0m\u001b[1;33m,\u001b[0m \u001b[1;33m**\u001b[0m\u001b[0mkwargs\u001b[0m\u001b[1;33m)\u001b[0m\u001b[1;33m]\u001b[0m\u001b[1;33m\u001b[0m\u001b[1;33m\u001b[0m\u001b[0m\n\u001b[0m\u001b[0;32m   1606\u001b[0m         \u001b[1;32mfor\u001b[0m \u001b[0mline\u001b[0m \u001b[1;32min\u001b[0m \u001b[0mlines\u001b[0m\u001b[1;33m:\u001b[0m\u001b[1;33m\u001b[0m\u001b[1;33m\u001b[0m\u001b[0m\n\u001b[0;32m   1607\u001b[0m             \u001b[0mself\u001b[0m\u001b[1;33m.\u001b[0m\u001b[0madd_line\u001b[0m\u001b[1;33m(\u001b[0m\u001b[0mline\u001b[0m\u001b[1;33m)\u001b[0m\u001b[1;33m\u001b[0m\u001b[1;33m\u001b[0m\u001b[0m\n",
      "\u001b[1;32mc:\\users\\user\\appdata\\local\\programs\\python\\python38\\lib\\site-packages\\matplotlib\\axes\\_base.py\u001b[0m in \u001b[0;36m__call__\u001b[1;34m(self, data, *args, **kwargs)\u001b[0m\n\u001b[0;32m    313\u001b[0m                 \u001b[0mthis\u001b[0m \u001b[1;33m+=\u001b[0m \u001b[0margs\u001b[0m\u001b[1;33m[\u001b[0m\u001b[1;36m0\u001b[0m\u001b[1;33m]\u001b[0m\u001b[1;33m,\u001b[0m\u001b[1;33m\u001b[0m\u001b[1;33m\u001b[0m\u001b[0m\n\u001b[0;32m    314\u001b[0m                 \u001b[0margs\u001b[0m \u001b[1;33m=\u001b[0m \u001b[0margs\u001b[0m\u001b[1;33m[\u001b[0m\u001b[1;36m1\u001b[0m\u001b[1;33m:\u001b[0m\u001b[1;33m]\u001b[0m\u001b[1;33m\u001b[0m\u001b[1;33m\u001b[0m\u001b[0m\n\u001b[1;32m--> 315\u001b[1;33m             \u001b[1;32myield\u001b[0m \u001b[1;32mfrom\u001b[0m \u001b[0mself\u001b[0m\u001b[1;33m.\u001b[0m\u001b[0m_plot_args\u001b[0m\u001b[1;33m(\u001b[0m\u001b[0mthis\u001b[0m\u001b[1;33m,\u001b[0m \u001b[0mkwargs\u001b[0m\u001b[1;33m)\u001b[0m\u001b[1;33m\u001b[0m\u001b[1;33m\u001b[0m\u001b[0m\n\u001b[0m\u001b[0;32m    316\u001b[0m \u001b[1;33m\u001b[0m\u001b[0m\n\u001b[0;32m    317\u001b[0m     \u001b[1;32mdef\u001b[0m \u001b[0mget_next_color\u001b[0m\u001b[1;33m(\u001b[0m\u001b[0mself\u001b[0m\u001b[1;33m)\u001b[0m\u001b[1;33m:\u001b[0m\u001b[1;33m\u001b[0m\u001b[1;33m\u001b[0m\u001b[0m\n",
      "\u001b[1;32mc:\\users\\user\\appdata\\local\\programs\\python\\python38\\lib\\site-packages\\matplotlib\\axes\\_base.py\u001b[0m in \u001b[0;36m_plot_args\u001b[1;34m(self, tup, kwargs, return_kwargs)\u001b[0m\n\u001b[0;32m    499\u001b[0m \u001b[1;33m\u001b[0m\u001b[0m\n\u001b[0;32m    500\u001b[0m         \u001b[1;32mif\u001b[0m \u001b[0mx\u001b[0m\u001b[1;33m.\u001b[0m\u001b[0mshape\u001b[0m\u001b[1;33m[\u001b[0m\u001b[1;36m0\u001b[0m\u001b[1;33m]\u001b[0m \u001b[1;33m!=\u001b[0m \u001b[0my\u001b[0m\u001b[1;33m.\u001b[0m\u001b[0mshape\u001b[0m\u001b[1;33m[\u001b[0m\u001b[1;36m0\u001b[0m\u001b[1;33m]\u001b[0m\u001b[1;33m:\u001b[0m\u001b[1;33m\u001b[0m\u001b[1;33m\u001b[0m\u001b[0m\n\u001b[1;32m--> 501\u001b[1;33m             raise ValueError(f\"x and y must have same first dimension, but \"\n\u001b[0m\u001b[0;32m    502\u001b[0m                              f\"have shapes {x.shape} and {y.shape}\")\n\u001b[0;32m    503\u001b[0m         \u001b[1;32mif\u001b[0m \u001b[0mx\u001b[0m\u001b[1;33m.\u001b[0m\u001b[0mndim\u001b[0m \u001b[1;33m>\u001b[0m \u001b[1;36m2\u001b[0m \u001b[1;32mor\u001b[0m \u001b[0my\u001b[0m\u001b[1;33m.\u001b[0m\u001b[0mndim\u001b[0m \u001b[1;33m>\u001b[0m \u001b[1;36m2\u001b[0m\u001b[1;33m:\u001b[0m\u001b[1;33m\u001b[0m\u001b[1;33m\u001b[0m\u001b[0m\n",
      "\u001b[1;31mValueError\u001b[0m: x and y must have same first dimension, but have shapes (19,) and (1,)"
     ]
    },
    {
     "data": {
      "image/png": "[encoded data removed]",
      "text/plain": [
       "<Figure size 432x288 with 1 Axes>"
      ]
     },
     "metadata": {
      "needs_background": "light"
     },
     "output_type": "display_data"
    }
   ],
   "source": [
    "plt.plot(x, sigmoid)\n",
    "plt.xlabel('x')\n",
    "plt.ylabel('f(x)')\n",
    "plt.show()"
   ]
  },
  {
   "cell_type": "code",
   "execution_count": null,
   "id": "875c147e",
   "metadata": {},
   "outputs": [],
   "source": []
  },
  {
   "cell_type": "code",
   "execution_count": null,
   "id": "01021807",
   "metadata": {},
   "outputs": [],
   "source": []
  },
  {
   "cell_type": "code",
   "execution_count": null,
   "id": "3247190a",
   "metadata": {},
   "outputs": [],
   "source": []
  },
  {
   "cell_type": "code",
   "execution_count": null,
   "id": "0e5040f9",
   "metadata": {},
   "outputs": [],
   "source": []
  },
  {
   "cell_type": "code",
   "execution_count": null,
   "id": "e7fc4e6b",
   "metadata": {},
   "outputs": [],
   "source": []
  },
  {
   "cell_type": "code",
   "execution_count": null,
   "id": "5302c040",
   "metadata": {},
   "outputs": [],
   "source": []
  },
  {
   "cell_type": "code",
   "execution_count": null,
   "id": "9cf1a9bd",
   "metadata": {},
   "outputs": [],
   "source": []
  },
  {
   "cell_type": "code",
   "execution_count": null,
   "id": "9d3855a3",
   "metadata": {},
   "outputs": [],
   "source": []
  }
 ],
 "metadata": {
  "kernelspec": {
   "display_name": "Python 3 (ipykernel)",
   "language": "python",
   "name": "python3"
  },
  "language_info": {
   "codemirror_mode": {
    "name": "ipython",
    "version": 3
   },
   "file_extension": ".py",
   "mimetype": "text/x-python",
   "name": "python",
   "nbconvert_exporter": "python",
   "pygments_lexer": "ipython3",
   "version": "3.8.10"
  }
 },
 "nbformat": 4,
 "nbformat_minor": 5
}
